{
 "cells": [
  {
   "cell_type": "code",
   "execution_count": 80,
   "id": "8a0187a0-e9c7-4e77-b1de-c826ca47ea81",
   "metadata": {},
   "outputs": [],
   "source": [
    "# Trade Reconciliation Between Internal and Clearer Data\n",
    "\n",
    "#This notebook aims to reconcile the internal trade data with the clearer’s official monthly settlement data. We will:\n",
    "#- Load both datasets\n",
    "#- Decompose quarterly contracts\n",
    "#- Aggregate monthly positions\n",
    "#- Compare quantities and prices with clearer data\n",
    "#- Identify mismatches"
   ]
  },
  {
   "cell_type": "code",
   "execution_count": 81,
   "id": "55679653-34ac-41c5-a3c8-108692bacb48",
   "metadata": {},
   "outputs": [
    {
     "name": "stdout",
     "output_type": "stream",
     "text": [
      "Requirement already satisfied: openpyxl in /home/jcorpus/venv/lib/python3.12/site-packages (3.1.5)\n",
      "Requirement already satisfied: et-xmlfile in /home/jcorpus/venv/lib/python3.12/site-packages (from openpyxl) (2.0.0)\n",
      "\n",
      "\u001b[1m[\u001b[0m\u001b[34;49mnotice\u001b[0m\u001b[1;39;49m]\u001b[0m\u001b[39;49m A new release of pip is available: \u001b[0m\u001b[31;49m24.0\u001b[0m\u001b[39;49m -> \u001b[0m\u001b[32;49m25.1.1\u001b[0m\n",
      "\u001b[1m[\u001b[0m\u001b[34;49mnotice\u001b[0m\u001b[1;39;49m]\u001b[0m\u001b[39;49m To update, run: \u001b[0m\u001b[32;49mpip install --upgrade pip\u001b[0m\n"
     ]
    }
   ],
   "source": [
    "!pip install openpyxl"
   ]
  },
  {
   "cell_type": "code",
   "execution_count": 82,
   "id": "495a068d-8bd5-488a-959b-d0bb914db9f1",
   "metadata": {
    "scrolled": true
   },
   "outputs": [
    {
     "data": {
      "text/html": [
       "<div>\n",
       "<style scoped>\n",
       "    .dataframe tbody tr th:only-of-type {\n",
       "        vertical-align: middle;\n",
       "    }\n",
       "\n",
       "    .dataframe tbody tr th {\n",
       "        vertical-align: top;\n",
       "    }\n",
       "\n",
       "    .dataframe thead th {\n",
       "        text-align: right;\n",
       "    }\n",
       "</style>\n",
       "<table border=\"1\" class=\"dataframe\">\n",
       "  <thead>\n",
       "    <tr style=\"text-align: right;\">\n",
       "      <th></th>\n",
       "      <th>trade_id</th>\n",
       "      <th>contract_type</th>\n",
       "      <th>contract_period</th>\n",
       "      <th>quantity_mwh</th>\n",
       "      <th>price_eur_per_mwh</th>\n",
       "      <th>Unnamed: 5</th>\n",
       "    </tr>\n",
       "  </thead>\n",
       "  <tbody>\n",
       "    <tr>\n",
       "      <th>0</th>\n",
       "      <td>1.0</td>\n",
       "      <td>Outright</td>\n",
       "      <td>2025-03</td>\n",
       "      <td>100.0</td>\n",
       "      <td>30.0</td>\n",
       "      <td>NaN</td>\n",
       "    </tr>\n",
       "    <tr>\n",
       "      <th>1</th>\n",
       "      <td>2.0</td>\n",
       "      <td>Outright</td>\n",
       "      <td>2025-04</td>\n",
       "      <td>200.0</td>\n",
       "      <td>31.0</td>\n",
       "      <td>NaN</td>\n",
       "    </tr>\n",
       "    <tr>\n",
       "      <th>2</th>\n",
       "      <td>3.0</td>\n",
       "      <td>Outright</td>\n",
       "      <td>2025-05</td>\n",
       "      <td>250.0</td>\n",
       "      <td>32.0</td>\n",
       "      <td>NaN</td>\n",
       "    </tr>\n",
       "    <tr>\n",
       "      <th>3</th>\n",
       "      <td>4.0</td>\n",
       "      <td>Outright Quarter</td>\n",
       "      <td>Q225</td>\n",
       "      <td>300.0</td>\n",
       "      <td>33.0</td>\n",
       "      <td>NaN</td>\n",
       "    </tr>\n",
       "    <tr>\n",
       "      <th>4</th>\n",
       "      <td>NaN</td>\n",
       "      <td>NaN</td>\n",
       "      <td>NaN</td>\n",
       "      <td>NaN</td>\n",
       "      <td>NaN</td>\n",
       "      <td>NaN</td>\n",
       "    </tr>\n",
       "  </tbody>\n",
       "</table>\n",
       "</div>"
      ],
      "text/plain": [
       "   trade_id     contract_type contract_period  quantity_mwh  \\\n",
       "0       1.0          Outright         2025-03         100.0   \n",
       "1       2.0          Outright         2025-04         200.0   \n",
       "2       3.0          Outright         2025-05         250.0   \n",
       "3       4.0  Outright Quarter            Q225         300.0   \n",
       "4       NaN               NaN             NaN           NaN   \n",
       "\n",
       "   price_eur_per_mwh Unnamed: 5  \n",
       "0               30.0        NaN  \n",
       "1               31.0        NaN  \n",
       "2               32.0        NaN  \n",
       "3               33.0        NaN  \n",
       "4                NaN        NaN  "
      ]
     },
     "metadata": {},
     "output_type": "display_data"
    },
    {
     "data": {
      "text/html": [
       "<div>\n",
       "<style scoped>\n",
       "    .dataframe tbody tr th:only-of-type {\n",
       "        vertical-align: middle;\n",
       "    }\n",
       "\n",
       "    .dataframe tbody tr th {\n",
       "        vertical-align: top;\n",
       "    }\n",
       "\n",
       "    .dataframe thead th {\n",
       "        text-align: right;\n",
       "    }\n",
       "</style>\n",
       "<table border=\"1\" class=\"dataframe\">\n",
       "  <thead>\n",
       "    <tr style=\"text-align: right;\">\n",
       "      <th></th>\n",
       "      <th>delivery_month</th>\n",
       "      <th>quantity_mwh</th>\n",
       "      <th>price_eur_per_mwh</th>\n",
       "    </tr>\n",
       "  </thead>\n",
       "  <tbody>\n",
       "    <tr>\n",
       "      <th>0</th>\n",
       "      <td>2025-03</td>\n",
       "      <td>100</td>\n",
       "      <td>30.0</td>\n",
       "    </tr>\n",
       "    <tr>\n",
       "      <th>1</th>\n",
       "      <td>2025-04</td>\n",
       "      <td>500</td>\n",
       "      <td>32.0</td>\n",
       "    </tr>\n",
       "    <tr>\n",
       "      <th>2</th>\n",
       "      <td>2025-05</td>\n",
       "      <td>550</td>\n",
       "      <td>32.5</td>\n",
       "    </tr>\n",
       "    <tr>\n",
       "      <th>3</th>\n",
       "      <td>2025-06</td>\n",
       "      <td>300</td>\n",
       "      <td>33.0</td>\n",
       "    </tr>\n",
       "  </tbody>\n",
       "</table>\n",
       "</div>"
      ],
      "text/plain": [
       "  delivery_month  quantity_mwh  price_eur_per_mwh\n",
       "0        2025-03           100               30.0\n",
       "1        2025-04           500               32.0\n",
       "2        2025-05           550               32.5\n",
       "3        2025-06           300               33.0"
      ]
     },
     "metadata": {},
     "output_type": "display_data"
    }
   ],
   "source": [
    "import pandas as pd\n",
    "\n",
    "# Load datasets\n",
    "internal = pd.read_excel(\"internal_trade_data.xlsx\")\n",
    "clearer = pd.read_excel(\"clearer_trade_data.xlsx\")\n",
    "\n",
    "# Display first few rows to understand structure\n",
    "display(internal.head())\n",
    "display(clearer.head())"
   ]
  },
  {
   "cell_type": "code",
   "execution_count": 83,
   "id": "299438a7-1813-4205-8087-639a892077c3",
   "metadata": {},
   "outputs": [],
   "source": [
    "### Understanding Data Structure\n",
    "\n",
    "#- The internal dataset contains outright monthly contracts and a quarterly contract (Q225).\n",
    "#- The clearer dataset provides monthly settled quantities and prices.\n",
    "#- The goal is to decompose the quarterly contract into monthly legs and net with monthly outright trades.\n"
   ]
  },
  {
   "cell_type": "code",
   "execution_count": 84,
   "id": "5750df4f-fb2a-4582-94fe-f2e47a36507a",
   "metadata": {},
   "outputs": [],
   "source": [
    "# Extract quarterly contract Q225\n",
    "q225 = internal[(internal['contract_type'] == 'Outright Quarter') & (internal['contract_period'] == 'Q225')]\n",
    "monthly = internal[internal['contract_type'] == 'Outright'].copy()\n",
    "\n",
    "# Rename for clarity\n",
    "monthly.rename(columns={'contract_period': 'month'}, inplace=True)\n",
    "\n",
    "# Decompose quarterly contract evenly into three months\n",
    "if not q225.empty:\n",
    "    q225_qty = q225.iloc[0]['quantity_mwh']\n",
    "    q225_price = q225.iloc[0]['price_eur_per_mwh']\n",
    "    q225_months = ['2025-04', '2025-05', '2025-06']\n",
    "    \n",
    "    q225_df = pd.DataFrame({\n",
    "        'month': q225_months,\n",
    "        'quantity_mwh': [q225_qty / 3] * 3,\n",
    "        'price_eur_per_mwh': [q225_price] * 3\n",
    "    })\n",
    "else:\n",
    "    q225_df = pd.DataFrame(columns=['month', 'quantity_mwh', 'price_eur_per_mwh'])\n",
    "\n",
    "# Combine monthly outright and decomposed quarterly contracts\n",
    "monthly_all = pd.concat([monthly[['month', 'quantity_mwh', 'price_eur_per_mwh']], q225_df], ignore_index=True)\n"
   ]
  },
  {
   "cell_type": "code",
   "execution_count": 85,
   "id": "00c4ce4a-0d14-4cd2-82f6-c0dff18fea3e",
   "metadata": {},
   "outputs": [],
   "source": [
    "### Calculate weighted average price per month\n",
    "\n",
    "#For months with both monthly and quarterly trades, calculate total quantity and weighted average price."
   ]
  },
  {
   "cell_type": "code",
   "execution_count": 86,
   "id": "0c67d648-da98-4113-9611-643fbdd8386c",
   "metadata": {},
   "outputs": [
    {
     "name": "stderr",
     "output_type": "stream",
     "text": [
      "/tmp/ipykernel_244123/2027994497.py:7: FutureWarning: DataFrameGroupBy.apply operated on the grouping columns. This behavior is deprecated, and in a future version of pandas the grouping columns will be excluded from the operation. Either pass `include_groups=False` to exclude the groupings or explicitly select the grouping columns after groupby to silence this warning.\n",
      "  internal_agg = monthly_all.groupby('month').apply(\n"
     ]
    }
   ],
   "source": [
    "def weighted_avg(group):\n",
    "    total_qty = group['quantity_mwh'].sum()\n",
    "    if total_qty == 0:\n",
    "        return 0\n",
    "    return (group['quantity_mwh'] * group['price_eur_per_mwh']).sum() / total_qty\n",
    "\n",
    "internal_agg = monthly_all.groupby('month').apply(\n",
    "    lambda g: pd.Series({\n",
    "        'internal_qty': g['quantity_mwh'].sum(),\n",
    "        'internal_price': weighted_avg(g)\n",
    "    })\n",
    ").reset_index()"
   ]
  },
  {
   "cell_type": "code",
   "execution_count": 87,
   "id": "9c64af9e-5707-4d7f-8b39-3f36f849aea2",
   "metadata": {},
   "outputs": [],
   "source": [
    "### Prepare clearer data\n",
    "\n",
    "#Rename columns to match internal data for easier merging."
   ]
  },
  {
   "cell_type": "code",
   "execution_count": 88,
   "id": "e6e8ed07-9b10-447b-8009-920a3864d433",
   "metadata": {},
   "outputs": [],
   "source": [
    "clearer.rename(columns={\n",
    "    'delivery_month': 'month',\n",
    "    'quantity_mwh': 'clearer_qty',\n",
    "    'price_eur_per_mwh': 'clearer_price'\n",
    "}, inplace=True)"
   ]
  },
  {
   "cell_type": "code",
   "execution_count": 89,
   "id": "8b35da1a-2756-413d-b79c-9e4f77d7917a",
   "metadata": {},
   "outputs": [],
   "source": [
    "### Merge internal and clearer data\n",
    "\n",
    "#- Join on month\n",
    "#- Compare quantities and prices\n",
    "#- Flag mismatches"
   ]
  },
  {
   "cell_type": "code",
   "execution_count": 90,
   "id": "2cea1ab0-4d99-4325-bac8-c966c90a4eab",
   "metadata": {},
   "outputs": [
    {
     "data": {
      "text/html": [
       "<div>\n",
       "<style scoped>\n",
       "    .dataframe tbody tr th:only-of-type {\n",
       "        vertical-align: middle;\n",
       "    }\n",
       "\n",
       "    .dataframe tbody tr th {\n",
       "        vertical-align: top;\n",
       "    }\n",
       "\n",
       "    .dataframe thead th {\n",
       "        text-align: right;\n",
       "    }\n",
       "</style>\n",
       "<table border=\"1\" class=\"dataframe\">\n",
       "  <thead>\n",
       "    <tr style=\"text-align: right;\">\n",
       "      <th></th>\n",
       "      <th>month</th>\n",
       "      <th>internal_qty</th>\n",
       "      <th>clearer_qty</th>\n",
       "      <th>qty_match</th>\n",
       "      <th>qty_diff</th>\n",
       "      <th>internal_price</th>\n",
       "      <th>clearer_price</th>\n",
       "      <th>price_match</th>\n",
       "      <th>price_diff</th>\n",
       "    </tr>\n",
       "  </thead>\n",
       "  <tbody>\n",
       "    <tr>\n",
       "      <th>0</th>\n",
       "      <td>2025-03</td>\n",
       "      <td>100.0</td>\n",
       "      <td>100</td>\n",
       "      <td>True</td>\n",
       "      <td>0.0</td>\n",
       "      <td>30.00</td>\n",
       "      <td>30.0</td>\n",
       "      <td>True</td>\n",
       "      <td>0.00</td>\n",
       "    </tr>\n",
       "    <tr>\n",
       "      <th>1</th>\n",
       "      <td>2025-04</td>\n",
       "      <td>300.0</td>\n",
       "      <td>500</td>\n",
       "      <td>False</td>\n",
       "      <td>-200.0</td>\n",
       "      <td>31.67</td>\n",
       "      <td>32.0</td>\n",
       "      <td>False</td>\n",
       "      <td>-0.33</td>\n",
       "    </tr>\n",
       "    <tr>\n",
       "      <th>2</th>\n",
       "      <td>2025-05</td>\n",
       "      <td>350.0</td>\n",
       "      <td>550</td>\n",
       "      <td>False</td>\n",
       "      <td>-200.0</td>\n",
       "      <td>32.29</td>\n",
       "      <td>32.5</td>\n",
       "      <td>False</td>\n",
       "      <td>-0.21</td>\n",
       "    </tr>\n",
       "    <tr>\n",
       "      <th>3</th>\n",
       "      <td>2025-06</td>\n",
       "      <td>100.0</td>\n",
       "      <td>300</td>\n",
       "      <td>False</td>\n",
       "      <td>-200.0</td>\n",
       "      <td>33.00</td>\n",
       "      <td>33.0</td>\n",
       "      <td>True</td>\n",
       "      <td>0.00</td>\n",
       "    </tr>\n",
       "  </tbody>\n",
       "</table>\n",
       "</div>"
      ],
      "text/plain": [
       "     month  internal_qty  clearer_qty  qty_match  qty_diff  internal_price  \\\n",
       "0  2025-03         100.0          100       True       0.0           30.00   \n",
       "1  2025-04         300.0          500      False    -200.0           31.67   \n",
       "2  2025-05         350.0          550      False    -200.0           32.29   \n",
       "3  2025-06         100.0          300      False    -200.0           33.00   \n",
       "\n",
       "   clearer_price  price_match  price_diff  \n",
       "0           30.0         True        0.00  \n",
       "1           32.0        False       -0.33  \n",
       "2           32.5        False       -0.21  \n",
       "3           33.0         True        0.00  "
      ]
     },
     "execution_count": 90,
     "metadata": {},
     "output_type": "execute_result"
    }
   ],
   "source": [
    "final = pd.merge(internal_agg, clearer, on='month', how='outer').fillna(0)\n",
    "\n",
    "# Quantity difference and matching flag\n",
    "final['qty_diff'] = final['internal_qty'] - final['clearer_qty']\n",
    "final['qty_match'] = final['qty_diff'].abs() < 1e-6\n",
    "\n",
    "# Price difference and matching flag\n",
    "final['price_diff'] = final['internal_price'] - final['clearer_price']\n",
    "final['price_match'] = final['price_diff'].abs() < 0.01\n",
    "\n",
    "# Format for display\n",
    "final_display = final[['month', 'internal_qty', 'clearer_qty', 'qty_match', 'qty_diff', 'internal_price', 'clearer_price', 'price_match', 'price_diff']]\n",
    "final_display.round(2)"
   ]
  },
  {
   "cell_type": "code",
   "execution_count": 93,
   "id": "fc864c8b-7a6c-42be-8341-6f6425a889cd",
   "metadata": {},
   "outputs": [
    {
     "name": "stdout",
     "output_type": "stream",
     "text": [
      "file CSV exported correctly.\n"
     ]
    }
   ],
   "source": [
    "internal_agg.to_csv('result_trade_reconciliation.csv', index=False)\n",
    "print(\"file CSV exported correctly.\")"
   ]
  },
  {
   "cell_type": "code",
   "execution_count": 91,
   "id": "51d4a682-3763-4536-a00f-892007638f39",
   "metadata": {},
   "outputs": [],
   "source": [
    "### Conclusion\n",
    "\n",
    "#- The reconciliation shows which months quantities and prices match.\n",
    "#- Differences highlight potential mismatches to investigate."
   ]
  },
  {
   "cell_type": "code",
   "execution_count": 92,
   "id": "fd5ca58c-ed28-41f3-8c50-1f845f08ae1b",
   "metadata": {},
   "outputs": [],
   "source": [
    "# Trade Reconciliation - Resumen\n",
    "\n",
    "#Este notebook realiza la reconciliación de contratos de energía:\n",
    "#- Se extrae el contrato trimestral Q225 y se descompone en sus meses correspondientes.\n",
    "#- Se combinan los contratos mensuales y los meses descompuestos.\n",
    "#- Se calcula la cantidad total y el precio promedio ponderado por mes.\n",
    "#- El resultado se exporta en un archivo CSV llamado `trade_reconciliation_output.csv`.\n",
    "\n",
    "#El código está preparado para facilitar la futura integración con otros datasets.\n"
   ]
  }
 ],
 "metadata": {
  "kernelspec": {
   "display_name": "Python 3 (ipykernel)",
   "language": "python",
   "name": "python3"
  },
  "language_info": {
   "codemirror_mode": {
    "name": "ipython",
    "version": 3
   },
   "file_extension": ".py",
   "mimetype": "text/x-python",
   "name": "python",
   "nbconvert_exporter": "python",
   "pygments_lexer": "ipython3",
   "version": "3.12.4"
  }
 },
 "nbformat": 4,
 "nbformat_minor": 5
}
